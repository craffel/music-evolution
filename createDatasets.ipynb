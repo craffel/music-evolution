{
 "metadata": {
  "name": "createDatasets"
 },
 "nbformat": 3,
 "nbformat_minor": 0,
 "worksheets": [
  {
   "cells": [
    {
     "cell_type": "code",
     "collapsed": false,
     "input": [
      "import numpy as np\n",
      "import msd\n",
      "import os\n",
      "import tables"
     ],
     "language": "python",
     "metadata": {},
     "outputs": [],
     "prompt_number": 51
    },
    {
     "cell_type": "code",
     "collapsed": false,
     "input": [
      "def getFiles( path, extension ):\n",
      "    \"\"\" \n",
      "    Get files of a certain type in a directory, recursively\n",
      "    \n",
      "    Inputs:\n",
      "        path - The path to look for files in\n",
      "        extension - The extension to look for\n",
      "    Outputs:\n",
      "        fileList - a list of all files with this extension, including their paths relative to path\n",
      "    \"\"\"\n",
      "    fileList = []\n",
      "    for root, subdirectories, files in os.walk( path ):\n",
      "        for file in files:\n",
      "            # Only get files of the given type\n",
      "            if os.path.splitext(file)[1] == extension:\n",
      "                fileList.append(os.path.join(root, file))\n",
      "    return fileList\n"
     ],
     "language": "python",
     "metadata": {},
     "outputs": [],
     "prompt_number": 52
    },
    {
     "cell_type": "markdown",
     "metadata": {},
     "source": [
      "\"For each year, we sample one million beat-consecutive codewords, considering entire tracks and using a window length of 5 years\""
     ]
    },
    {
     "cell_type": "code",
     "collapsed": false,
     "input": [
      "def getRandomSubsample( fileList, year, **kwargs ):\n",
      "    \"\"\"\n",
      "    Given a year, returns nVectors of pitch/timbre/loudness descriptions from tracks in a 5-year window centered around that year.\n",
      "\n",
      "    Input:\n",
      "        fileList - list of hdf5 files to retrieve information from\n",
      "        year - Year to sample from\n",
      "        nVectors - the number of vectors to grab (default 1,000,000)\n",
      "        seed - integer to seed the random number generator (default 0)\n",
      "    Output: \n",
      "        pitchVectors - Matrix of random pitch vectors grabbed, size = (maxYear-minYear) x nVectors x 12\n",
      "        timbreVectors - Same for timbre...\n",
      "        loudnessValues - Vectors of random loudness values grabbed, size = (maxYear-minYear) x nVectors\n",
      "        trackIndices - eg pitchVectors[year, trackIndices[year, n]:trackIndices[year, n+1]] are the pitch vectors for track n for some year\n",
      "    \"\"\"\n",
      "    # Get keyword arguments\n",
      "    nVectors = kwargs.get( 'nVectors', 1000000 )\n",
      "    seed = kwargs.get( 'seed', 0 )\n",
      "    np.random.seed( seed )\n",
      "    # Create a copy of the file list because we'll be deleting elements from it\n",
      "    fileList = list( fileList )\n",
      "    # Matrix allocation\n",
      "    pitchVectors = np.zeros( (nVectors, 12) )\n",
      "    timbreVectors = np.zeros( (nVectors, 12) )\n",
      "    loudnessValues = np.zeros( nVectors )\n",
      "    # Will trim this later...\n",
      "    trackIndices = np.zeros( nVectors )\n",
      "    tracksWritten = 0\n",
      "    # Where in the matrix are we writing values? Start from zero.\n",
      "    index = 0\n",
      "    # Keep going until the file list is empty (there will be other stopping conditions)\n",
      "    while len( fileList ) > 0:\n",
      "        # Get a random file from the remaining list\n",
      "        randomIndex = np.random.randint( 0, len( fileList ))\n",
      "        filename = fileList[randomIndex]\n",
      "        # Remove so we don't retrieve this entry again\n",
      "        del fileList[randomIndex]\n",
      "        # Get hdf5 object\n",
      "        h5 = tables.openFile( filename, mode='r' )\n",
      "        # Get this entry's year\n",
      "        trackYear = msd.hdf5_getters.get_year( h5 )\n",
      "        # If the year isn't within two years, skip\n",
      "        if trackYear > year + 2 or trackYear < year - 2:\n",
      "            h5.close()\n",
      "            continue\n",
      "        # Get the data we care about\n",
      "        trackPitchVectors = msd.beat_aligned_feats.get_btchromas( h5 )\n",
      "        trackTimbreVectors = msd.beat_aligned_feats.get_bttimbre( h5 )\n",
      "        # They use the 0th timbre value as the loudness\n",
      "        trackLoudnessValues = trackTimbreVectors[:, 0]\n",
      "        h5.close()\n",
      "        # Store values\n",
      "        nBeats = trackPitchVectors.shape[0]\n",
      "        storeRange = np.r_[index:np.clip( index+nBeats, 0, nVectors)]\n",
      "        valuesToStore = pitchVectors[storeRange].shape[0]\n",
      "        pitchVectors[storeRange] = trackPitchVectors[:valuesToStore]\n",
      "        timbreVectors[storeRange] = trackTimbreVectors[:valuesToStore]\n",
      "        loudnessValues[storeRange] = trackLoudnessValues[:valuesToStore]\n",
      "        trackIndices[tracksWritten] = index\n",
      "        tracksWritten += 1\n",
      "        index += nBeats\n",
      "        # Have we gotten enough vectors for all years yet?\n",
      "        if (index >= nVectors):\n",
      "            break\n",
      "    # Trim track index list\n",
      "    trackIndices = trackIndices[:tracksWritten]\n",
      "    # Did we end without getting enough vectors?\n",
      "    if len( fileList ) == 0:\n",
      "        print \"WARNING -- not enough tracks were found for all years.\"\n",
      "    return pitchVectors, timbreVectors, loudnessValues, trackIndices"
     ],
     "language": "python",
     "metadata": {},
     "outputs": [],
     "prompt_number": 69
    },
    {
     "cell_type": "markdown",
     "metadata": {},
     "source": [
      "\"We use a single threshold set to 0.5 and map the original pitch vector values to 0 or 1\""
     ]
    },
    {
     "cell_type": "code",
     "collapsed": false,
     "input": [
      "def quantizePitchVectors( pitchVectors ):\n",
      "    \"\"\"\n",
      "    Quantizes pitch vectors to binary values using a threshold of .5.\n",
      "\n",
      "    Input:\n",
      "        pitchVectors - Matrix of pitch vectors\n",
      "    Output: \n",
      "        quantizedPitchVectors - Matrix of quantized pitch vectors\n",
      "    \"\"\"\n",
      "    return pitchVectors > 0.5"
     ],
     "language": "python",
     "metadata": {},
     "outputs": [],
     "prompt_number": 54
    },
    {
     "cell_type": "markdown",
     "metadata": {},
     "source": [
      "\"Before discretization, pitch descriptions of each track are automatically transposed to an equivalent main tonality, such that all pitch codewords are considered within the same tonal context or key. For this process we employ a circular shift strategy, correlating (shifted) per-track averages to cognitively-inspired tonal pro\f",
      "\n",
      "les.\""
     ]
    },
    {
     "cell_type": "code",
     "collapsed": false,
     "input": [
      "def shiftPitchVectors( pitchVectors, trackIndices ):\n",
      "    \"\"\"\n",
      "    Circularly shift pitch vectors to a common key.\n",
      "\n",
      "    Input:\n",
      "        pitchVectors - Matrix of pitch vectors\n",
      "        trackIndices - indices of the starts of tracks in pitchVectors\n",
      "    Output: \n",
      "        shiftedPitchVectors - Matrix of shifted\n",
      "    \"\"\"\n",
      "    # These values from http://musicweb.ucsd.edu/~sdubnov/CATbox/miditoolbox/refstat.m and elsewhere\n",
      "    reference = np.array([6.35, 2.23, 3.48, 2.33, 4.38, 4.09, 2.52, 5.19, 2.39, 3.66, 2.29, 2.88])\n",
      "    shiftedPitchVectors = np.zeros( pitchVectors.shape )\n",
      "    # Cycle through track start and end times\n",
      "    for trackStart, trackEnd in zip( trackIndices, np.append( trackIndices[1:], np.array( [pitchVectors.shape[0]] ) ) ):\n",
      "        # Grab pitch vectors for this track\n",
      "        trackPitchVectors = pitchVectors[trackStart:trackEnd]\n",
      "        # Compute mean of pitch vectors for this track\n",
      "        meanPitchVector = np.mean( trackPitchVectors, axis=0 )\n",
      "        # Compute dot products for all shifts\n",
      "        dotProducts = np.zeros( 12 )\n",
      "        for shift in xrange( 12 ):\n",
      "            dotProducts[shift] = np.dot( np.roll( meanPitchVector, shift ), reference )\n",
      "        # Get best shift and store shifted vector\n",
      "        bestShift = np.argmax( dotProducts )\n",
      "        shiftedPitchVectors[trackStart:trackEnd] = np.roll( trackPitchVectors, bestShift, axis=1 )\n",
      "    return shiftedPitchVectors"
     ],
     "language": "python",
     "metadata": {},
     "outputs": [],
     "prompt_number": 133
    },
    {
     "cell_type": "code",
     "collapsed": false,
     "input": [
      "# Create the data subset\n",
      "if __name__ == \"__main__\":\n",
      "    # For now just get stuff from the subset... fewer vectors possible.\n",
      "    fileList = getFiles( \"Data/MillionSongSubset/data\", \".h5\" )\n",
      "    for year in np.array([1955, 1965, 1975, 1985, 1995, 2005]):\n",
      "        pitchVectors, timbreVectors, loudnessValues, trackIndices = getRandomSubsample( fileList, year, nVectors=1000 )\n",
      "        # Shift and quantize the pitch vectors\n",
      "        shiftedPitchVectors = shiftPitchVectors( pitchVectors, trackIndices )\n",
      "        quantizedShiftedPitchVectors = quantizePitchVectors( shiftedPitchVectors )\n",
      "        # Save file\n",
      "        np.save( 'Data/subset-pitches-' + str( year ) + '.npy', quantizedShiftedPitchVectors )\n",
      "        "
     ],
     "language": "python",
     "metadata": {},
     "outputs": [
      {
       "ename": "NameError",
       "evalue": "name 'getFiles' is not defined",
       "output_type": "pyerr",
       "traceback": [
        "\u001b[0;31m---------------------------------------------------------------------------\u001b[0m\n\u001b[0;31mNameError\u001b[0m                                 Traceback (most recent call last)",
        "\u001b[0;32m<ipython-input-1-95fa28177f28>\u001b[0m in \u001b[0;36m<module>\u001b[0;34m()\u001b[0m\n\u001b[1;32m      1\u001b[0m \u001b[0;31m# Create the data subset\u001b[0m\u001b[0;34m\u001b[0m\u001b[0;34m\u001b[0m\u001b[0m\n\u001b[1;32m      2\u001b[0m \u001b[0;32mif\u001b[0m \u001b[0m__name__\u001b[0m \u001b[0;34m==\u001b[0m \u001b[0;34m\"__main__\"\u001b[0m\u001b[0;34m:\u001b[0m\u001b[0;34m\u001b[0m\u001b[0m\n\u001b[0;32m----> 3\u001b[0;31m     \u001b[0mfileList\u001b[0m \u001b[0;34m=\u001b[0m \u001b[0mgetFiles\u001b[0m\u001b[0;34m(\u001b[0m \u001b[0;34m\"Data/MillionSongSubset/\"\u001b[0m\u001b[0;34m,\u001b[0m \u001b[0;34m\".h5\"\u001b[0m \u001b[0;34m)\u001b[0m\u001b[0;34m\u001b[0m\u001b[0m\n\u001b[0m\u001b[1;32m      4\u001b[0m     \u001b[0;31m# Seems like there are enough in the MSS to support 8000 vectors per year.\u001b[0m\u001b[0;34m\u001b[0m\u001b[0;34m\u001b[0m\u001b[0m\n\u001b[1;32m      5\u001b[0m     \u001b[0;32mfor\u001b[0m \u001b[0myear\u001b[0m \u001b[0;32min\u001b[0m \u001b[0mnp\u001b[0m\u001b[0;34m.\u001b[0m\u001b[0marray\u001b[0m\u001b[0;34m(\u001b[0m\u001b[0;34m[\u001b[0m\u001b[0;36m1955\u001b[0m\u001b[0;34m,\u001b[0m \u001b[0;36m1965\u001b[0m\u001b[0;34m,\u001b[0m \u001b[0;36m1975\u001b[0m\u001b[0;34m,\u001b[0m \u001b[0;36m1985\u001b[0m\u001b[0;34m,\u001b[0m \u001b[0;36m1995\u001b[0m\u001b[0;34m,\u001b[0m \u001b[0;36m2005\u001b[0m\u001b[0;34m]\u001b[0m\u001b[0;34m)\u001b[0m\u001b[0;34m:\u001b[0m\u001b[0;34m\u001b[0m\u001b[0m\n",
        "\u001b[0;31mNameError\u001b[0m: name 'getFiles' is not defined"
       ]
      }
     ],
     "prompt_number": 1
    }
   ],
   "metadata": {}
  }
 ]
}