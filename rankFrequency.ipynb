{
 "metadata": {
  "name": "rankFrequency"
 },
 "nbformat": 3,
 "nbformat_minor": 0,
 "worksheets": [
  {
   "cells": [
    {
     "cell_type": "code",
     "collapsed": false,
     "input": [
      "import numpy as np\n",
      "import matplotlib.pyplot as plt"
     ],
     "language": "python",
     "metadata": {},
     "outputs": [],
     "prompt_number": 78
    },
    {
     "cell_type": "markdown",
     "metadata": {},
     "source": [
      "\"We first count the frequency of usage of pitch codewords (i.e. the number of times each codeword type appears in a sample)\""
     ]
    },
    {
     "cell_type": "code",
     "collapsed": false,
     "input": [
      "def getRankFrequency( matrix ):\n",
      "    \"\"\"\n",
      "    Given a matrix, find the percentage of how often each unique row appears.\n",
      "    \n",
      "    Input:\n",
      "        matrix - matrix whose rank-frequency will be calculated\n",
      "    Output:\n",
      "        rankFrequency - vector where the i'th element is the frequency of the i'th most common row\n",
      "        rankCounts - vector where the i'th element is the COUNT of the i'th most common row\n",
      "        sortedMatrix - matrix where the i'th row is the i'th most common row from matrix\n",
      "    \"\"\"\n",
      "    # Get unique entries in matrix to initialize sortedMatrix\n",
      "    sortedMatrix = np.array([np.array(x) for x in set(tuple(x) for x in matrix)])\n",
      "    # Number of unique elements found in matrix\n",
      "    nUnique = sortedMatrix.shape[0]\n",
      "    # Initialize rank frequency matrix\n",
      "    rankFrequency = np.zeros( nUnique )\n",
      "    for n, row in enumerate( sortedMatrix ):\n",
      "        # Compute the frequency of this row\n",
      "        rankFrequency[n] = np.sum( np.all( np.equal( matrix, row ), 1 ) )/(1.0*matrix.shape[0])\n",
      "    # Sort the rankFrequency vector and sortedMatrix matrix according to the frequency\n",
      "    indices = np.argsort( rankFrequency )[::-1]\n",
      "    rankFrequency = rankFrequency[indices]\n",
      "    rankCounts = np.array( rankFrequency*matrix.shape[0], dtype=np.int )\n",
      "    sortedMatrix = sortedMatrix[indices]\n",
      "    return rankFrequency, rankCounts, sortedMatrix"
     ],
     "language": "python",
     "metadata": {},
     "outputs": [],
     "prompt_number": 80
    },
    {
     "cell_type": "markdown",
     "metadata": {},
     "source": [
      "Make plots that look like, eg, Fig 2a by using this function with rank-frequency distributions for various years, each multiplied by $10^{year index}$, with different color arguments."
     ]
    },
    {
     "cell_type": "code",
     "collapsed": false,
     "input": [
      "def plotRankFrequency( rankFrequency, color ):\n",
      "    \"\"\"\n",
      "    Plots the rank-frequency distribution on a log-log scale.\n",
      "    \n",
      "    Input:\n",
      "        rankFrequency - the rank-frequency distribution.\n",
      "        color - the color of the dots, eg 'b'\n",
      "    \"\"\"\n",
      "    plt.loglog( rankFrequency, '.' + color )"
     ],
     "language": "python",
     "metadata": {},
     "outputs": [],
     "prompt_number": 64
    },
    {
     "cell_type": "code",
     "collapsed": false,
     "input": [
      "# Test\n",
      "if __name__ == \"__main__\":\n",
      "    #a = np.array([[1, 0, 1], [1, 0, 0], [1, 0, 1], [1, 0, 1], [0, 1, 1], [1, 0, 0], [0, 0, 0], [0, 0, 0]])\n",
      "    a = np.random.power( 1.8, (10000, 12) )\n",
      "    a = a > .5\n",
      "    rankFrequency, rankCounts, sortedMatrix = getRankFrequency( a )\n",
      "    plotRankFrequency( rankFrequency, 'm' )"
     ],
     "language": "python",
     "metadata": {},
     "outputs": [
      {
       "output_type": "display_data",
       "png": "[encoded data removed]"
      }
     ],
     "prompt_number": 81
    },
    {
     "cell_type": "code",
     "collapsed": false,
     "input": [],
     "language": "python",
     "metadata": {},
     "outputs": []
    }
   ],
   "metadata": {}
  }
 ]
}