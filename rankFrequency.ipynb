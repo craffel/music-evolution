{
 "metadata": {
  "name": "rankFrequency"
 },
 "nbformat": 3,
 "nbformat_minor": 0,
 "worksheets": [
  {
   "cells": [
    {
     "cell_type": "code",
     "collapsed": false,
     "input": [
      "import numpy as np\n",
      "import matplotlib.pyplot as plt"
     ],
     "language": "python",
     "metadata": {},
     "outputs": []
    },
    {
     "cell_type": "markdown",
     "metadata": {},
     "source": [
      "\"We first count the frequency of usage of pitch codewords (i.e. the number of times each codeword type appears in a sample)\""
     ]
    },
    {
     "cell_type": "code",
     "collapsed": false,
     "input": [
      "def getRankFrequency( matrix ):\n",
      "    \"\"\"\n",
      "    Given a matrix, find the percentage of how often each unique row appears.\n",
      "    \n",
      "    Input:\n",
      "        matrix - matrix whose rank-frequency will be calculated\n",
      "    Output:\n",
      "        rankFrequency - vector where the i'th element is the frequency of the i'th most common row\n",
      "        rankCounts - vector where the i'th element is the COUNT of the i'th most common row\n",
      "        sortedMatrix - matrix where the i'th row is the i'th most common row from matrix\n",
      "    \"\"\"\n",
      "    # Sort the matrix\n",
      "    order = np.lexsort(matrix.T)\n",
      "    matrix = matrix[order]\n",
      "    # Compute the change across rows\n",
      "    diff = np.diff(matrix, axis=0)\n",
      "    # Get rows where the diff is zero - no change\n",
      "    unique = np.ones(matrix.shape[0], 'bool')\n",
      "    unique[1:] = (diff != 0).any(axis=1) \n",
      "    # Get the unique rows of the matrix\n",
      "    sortedMatrix = matrix[unique]\n",
      "    # Get the counts of each row - the space between nonzero indices of unique\n",
      "    rankCounts = np.diff( np.append( np.nonzero( unique )[0], matrix.shape[0] ) )\n",
      "    # Sort the matrices\n",
      "    sortedIndices = np.argsort( rankCounts )[::-1]\n",
      "    rankCounts = rankCounts[sortedIndices]\n",
      "    sortedMatrix = sortedMatrix[sortedIndices]\n",
      "    return rankCounts/(1.0*matrix.shape[0]), rankCounts, sortedMatrix"
     ],
     "language": "python",
     "metadata": {},
     "outputs": []
    },
    {
     "cell_type": "markdown",
     "metadata": {},
     "source": [
      "Make plots that look like, eg, Fig 2a by using this function with rank-frequency distributions for various years, each multiplied by $10^{year index}$, with different color arguments."
     ]
    },
    {
     "cell_type": "code",
     "collapsed": false,
     "input": [
      "def plotRankFrequency( rankFrequency, color ):\n",
      "    \"\"\"\n",
      "    Plots the rank-frequency distribution on a log-log scale.\n",
      "    \n",
      "    Input:\n",
      "        rankFrequency - the rank-frequency distribution.\n",
      "        color - the color of the dots, eg 'b'\n",
      "    \"\"\"\n",
      "    plt.loglog( rankFrequency, '.' + color )"
     ],
     "language": "python",
     "metadata": {},
     "outputs": []
    },
    {
     "cell_type": "code",
     "collapsed": false,
     "input": [
      "# Test\n",
      "if __name__ == \"__main__\":\n",
      "    import createDatasets\n",
      "    fileList = createDatasets.getFiles( 'Data', '.npy' )\n",
      "    colors = ['b', 'c', 'g', 'y', 'r', 'm']\n",
      "    plt.figure( figsize = (8, 16) )\n",
      "    for n, filename in enumerate( fileList ):\n",
      "        pitchVectors = np.load( filename )\n",
      "        rankFrequency, rankCounts, sortedMatrix = getRankFrequency( pitchVectors )\n",
      "        plotRankFrequency( rankFrequency*(10**n), colors[n] )\n",
      "    plt.legend( fileList )"
     ],
     "language": "python",
     "metadata": {},
     "outputs": []
    }
   ],
   "metadata": {}
  }
 ]
}